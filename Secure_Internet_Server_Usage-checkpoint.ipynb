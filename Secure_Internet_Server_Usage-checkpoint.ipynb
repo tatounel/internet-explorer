{
 "cells": [
  {
   "cell_type": "code",
   "execution_count": 1,
   "metadata": {},
   "outputs": [],
   "source": [
    "# data handlers\n",
    "import numpy as np\n",
    "import pandas as pd\n",
    "\n",
    "# data visualization stuffs\n",
    "import matplotlib.pyplot as plt\n",
    "import seaborn as sns \n",
    "\n",
    "%matplotlib inline"
   ]
  },
  {
   "cell_type": "code",
   "execution_count": 3,
   "metadata": {},
   "outputs": [],
   "source": [
    "# Load data of WB A \n",
    "df = pd.read_csv('wb_a.csv')"
   ]
  },
  {
   "cell_type": "code",
   "execution_count": 4,
   "metadata": {},
   "outputs": [
    {
     "data": {
      "text/html": [
       "<div>\n",
       "<style scoped>\n",
       "    .dataframe tbody tr th:only-of-type {\n",
       "        vertical-align: middle;\n",
       "    }\n",
       "\n",
       "    .dataframe tbody tr th {\n",
       "        vertical-align: top;\n",
       "    }\n",
       "\n",
       "    .dataframe thead th {\n",
       "        text-align: right;\n",
       "    }\n",
       "</style>\n",
       "<table border=\"1\" class=\"dataframe\">\n",
       "  <thead>\n",
       "    <tr style=\"text-align: right;\">\n",
       "      <th></th>\n",
       "      <th>Secure Internet Servers per million population</th>\n",
       "      <th>2007</th>\n",
       "      <th>2008</th>\n",
       "      <th>2009</th>\n",
       "      <th>2010</th>\n",
       "      <th>2011</th>\n",
       "      <th>2012</th>\n",
       "      <th>2013</th>\n",
       "    </tr>\n",
       "  </thead>\n",
       "  <tbody>\n",
       "    <tr>\n",
       "      <td>0</td>\n",
       "      <td>Argentina</td>\n",
       "      <td>15.636379</td>\n",
       "      <td>18.348585</td>\n",
       "      <td>19.838275</td>\n",
       "      <td>26.105765</td>\n",
       "      <td>33.637183</td>\n",
       "      <td>41.789448</td>\n",
       "      <td>42.874812</td>\n",
       "    </tr>\n",
       "    <tr>\n",
       "      <td>1</td>\n",
       "      <td>Australia</td>\n",
       "      <td>814.832242</td>\n",
       "      <td>999.049376</td>\n",
       "      <td>1222.449140</td>\n",
       "      <td>1784.556868</td>\n",
       "      <td>2027.797672</td>\n",
       "      <td>1721.403456</td>\n",
       "      <td>1252.264287</td>\n",
       "    </tr>\n",
       "    <tr>\n",
       "      <td>2</td>\n",
       "      <td>Austria</td>\n",
       "      <td>400.082498</td>\n",
       "      <td>480.992634</td>\n",
       "      <td>553.717600</td>\n",
       "      <td>856.042436</td>\n",
       "      <td>994.743514</td>\n",
       "      <td>1139.028500</td>\n",
       "      <td>1079.328650</td>\n",
       "    </tr>\n",
       "    <tr>\n",
       "      <td>3</td>\n",
       "      <td>Bahrain</td>\n",
       "      <td>40.683758</td>\n",
       "      <td>53.761610</td>\n",
       "      <td>62.943806</td>\n",
       "      <td>98.281041</td>\n",
       "      <td>120.671677</td>\n",
       "      <td>135.829665</td>\n",
       "      <td>141.873678</td>\n",
       "    </tr>\n",
       "    <tr>\n",
       "      <td>4</td>\n",
       "      <td>Bangladesh</td>\n",
       "      <td>0.040968</td>\n",
       "      <td>0.101372</td>\n",
       "      <td>0.193976</td>\n",
       "      <td>0.311000</td>\n",
       "      <td>0.628016</td>\n",
       "      <td>0.730468</td>\n",
       "      <td>0.766308</td>\n",
       "    </tr>\n",
       "  </tbody>\n",
       "</table>\n",
       "</div>"
      ],
      "text/plain": [
       "  Secure Internet Servers per million population        2007        2008  \\\n",
       "0                                      Argentina   15.636379   18.348585   \n",
       "1                                      Australia  814.832242  999.049376   \n",
       "2                                        Austria  400.082498  480.992634   \n",
       "3                                        Bahrain   40.683758   53.761610   \n",
       "4                                     Bangladesh    0.040968    0.101372   \n",
       "\n",
       "          2009         2010         2011         2012         2013  \n",
       "0    19.838275    26.105765    33.637183    41.789448    42.874812  \n",
       "1  1222.449140  1784.556868  2027.797672  1721.403456  1252.264287  \n",
       "2   553.717600   856.042436   994.743514  1139.028500  1079.328650  \n",
       "3    62.943806    98.281041   120.671677   135.829665   141.873678  \n",
       "4     0.193976     0.311000     0.628016     0.730468     0.766308  "
      ]
     },
     "execution_count": 4,
     "metadata": {},
     "output_type": "execute_result"
    }
   ],
   "source": [
    "# Show Data of first 5 columns\n",
    "df.head()"
   ]
  },
  {
   "cell_type": "code",
   "execution_count": 5,
   "metadata": {},
   "outputs": [
    {
     "data": {
      "text/html": [
       "<div>\n",
       "<style scoped>\n",
       "    .dataframe tbody tr th:only-of-type {\n",
       "        vertical-align: middle;\n",
       "    }\n",
       "\n",
       "    .dataframe tbody tr th {\n",
       "        vertical-align: top;\n",
       "    }\n",
       "\n",
       "    .dataframe thead th {\n",
       "        text-align: right;\n",
       "    }\n",
       "</style>\n",
       "<table border=\"1\" class=\"dataframe\">\n",
       "  <thead>\n",
       "    <tr style=\"text-align: right;\">\n",
       "      <th></th>\n",
       "      <th>2007</th>\n",
       "      <th>2008</th>\n",
       "      <th>2009</th>\n",
       "      <th>2010</th>\n",
       "      <th>2011</th>\n",
       "      <th>2012</th>\n",
       "      <th>2013</th>\n",
       "    </tr>\n",
       "  </thead>\n",
       "  <tbody>\n",
       "    <tr>\n",
       "      <td>count</td>\n",
       "      <td>86.000000</td>\n",
       "      <td>86.000000</td>\n",
       "      <td>86.000000</td>\n",
       "      <td>86.000000</td>\n",
       "      <td>86.000000</td>\n",
       "      <td>86.000000</td>\n",
       "      <td>86.000000</td>\n",
       "    </tr>\n",
       "    <tr>\n",
       "      <td>mean</td>\n",
       "      <td>168.296107</td>\n",
       "      <td>205.475487</td>\n",
       "      <td>237.342356</td>\n",
       "      <td>339.879215</td>\n",
       "      <td>408.833524</td>\n",
       "      <td>418.163256</td>\n",
       "      <td>374.921889</td>\n",
       "    </tr>\n",
       "    <tr>\n",
       "      <td>std</td>\n",
       "      <td>300.598262</td>\n",
       "      <td>359.792319</td>\n",
       "      <td>414.008742</td>\n",
       "      <td>603.323433</td>\n",
       "      <td>725.971047</td>\n",
       "      <td>737.578496</td>\n",
       "      <td>649.108086</td>\n",
       "    </tr>\n",
       "    <tr>\n",
       "      <td>min</td>\n",
       "      <td>0.012432</td>\n",
       "      <td>0.019538</td>\n",
       "      <td>0.019402</td>\n",
       "      <td>0.057769</td>\n",
       "      <td>0.076408</td>\n",
       "      <td>0.094702</td>\n",
       "      <td>0.131433</td>\n",
       "    </tr>\n",
       "    <tr>\n",
       "      <td>25%</td>\n",
       "      <td>0.733403</td>\n",
       "      <td>0.992614</td>\n",
       "      <td>1.172397</td>\n",
       "      <td>1.778392</td>\n",
       "      <td>2.268259</td>\n",
       "      <td>3.024960</td>\n",
       "      <td>3.253524</td>\n",
       "    </tr>\n",
       "    <tr>\n",
       "      <td>50%</td>\n",
       "      <td>10.989472</td>\n",
       "      <td>12.574706</td>\n",
       "      <td>14.184359</td>\n",
       "      <td>20.051351</td>\n",
       "      <td>26.363461</td>\n",
       "      <td>34.792727</td>\n",
       "      <td>38.555663</td>\n",
       "    </tr>\n",
       "    <tr>\n",
       "      <td>75%</td>\n",
       "      <td>140.098640</td>\n",
       "      <td>167.907232</td>\n",
       "      <td>200.117477</td>\n",
       "      <td>313.906940</td>\n",
       "      <td>380.402182</td>\n",
       "      <td>405.886626</td>\n",
       "      <td>441.842783</td>\n",
       "    </tr>\n",
       "    <tr>\n",
       "      <td>max</td>\n",
       "      <td>1418.640031</td>\n",
       "      <td>1559.477528</td>\n",
       "      <td>1714.291097</td>\n",
       "      <td>2524.831704</td>\n",
       "      <td>3024.945614</td>\n",
       "      <td>3133.613540</td>\n",
       "      <td>2922.582523</td>\n",
       "    </tr>\n",
       "  </tbody>\n",
       "</table>\n",
       "</div>"
      ],
      "text/plain": [
       "              2007         2008         2009         2010         2011  \\\n",
       "count    86.000000    86.000000    86.000000    86.000000    86.000000   \n",
       "mean    168.296107   205.475487   237.342356   339.879215   408.833524   \n",
       "std     300.598262   359.792319   414.008742   603.323433   725.971047   \n",
       "min       0.012432     0.019538     0.019402     0.057769     0.076408   \n",
       "25%       0.733403     0.992614     1.172397     1.778392     2.268259   \n",
       "50%      10.989472    12.574706    14.184359    20.051351    26.363461   \n",
       "75%     140.098640   167.907232   200.117477   313.906940   380.402182   \n",
       "max    1418.640031  1559.477528  1714.291097  2524.831704  3024.945614   \n",
       "\n",
       "              2012         2013  \n",
       "count    86.000000    86.000000  \n",
       "mean    418.163256   374.921889  \n",
       "std     737.578496   649.108086  \n",
       "min       0.094702     0.131433  \n",
       "25%       3.024960     3.253524  \n",
       "50%      34.792727    38.555663  \n",
       "75%     405.886626   441.842783  \n",
       "max    3133.613540  2922.582523  "
      ]
     },
     "execution_count": 5,
     "metadata": {},
     "output_type": "execute_result"
    }
   ],
   "source": [
    "# describe for the year\n",
    "df.describe()"
   ]
  },
  {
   "cell_type": "code",
   "execution_count": 6,
   "metadata": {},
   "outputs": [
    {
     "data": {
      "text/plain": [
       "Secure Internet Servers per million population     object\n",
       "2007                                              float64\n",
       "2008                                              float64\n",
       "2009                                              float64\n",
       "2010                                              float64\n",
       "2011                                              float64\n",
       "2012                                              float64\n",
       "2013                                              float64\n",
       "dtype: object"
      ]
     },
     "execution_count": 6,
     "metadata": {},
     "output_type": "execute_result"
    }
   ],
   "source": [
    "#showing which data types are used for each columns\n",
    "df.dtypes"
   ]
  },
  {
   "cell_type": "code",
   "execution_count": 7,
   "metadata": {
    "scrolled": true
   },
   "outputs": [
    {
     "data": {
      "text/plain": [
       "Text(0, 0.5, 'Total Per Year')"
      ]
     },
     "execution_count": 7,
     "metadata": {},
     "output_type": "execute_result"
    },
    {
     "data": {
      "image/png": "[encoded data removed]",
      "text/plain": [
       "<Figure size 1440x864 with 1 Axes>"
      ]
     },
     "metadata": {
      "needs_background": "light"
     },
     "output_type": "display_data"
    }
   ],
   "source": [
    "#Just a quick note: 'stacked = True' meaning the bars are on top of each other rather than displaying side by side (saves space)\n",
    "bar_plot = df.plot(kind='bar',stacked=True,title=\"Total Server by Countries\",figsize=(20, 12)) #figsize (x,y)\n",
    "bar_plot.set_xlabel(\"Countries\")\n",
    "bar_plot.set_ylabel(\"Total Per Year\")"
   ]
  },
  {
   "cell_type": "code",
   "execution_count": null,
   "metadata": {},
   "outputs": [],
   "source": []
  }
 ],
 "metadata": {
  "kernelspec": {
   "display_name": "Python 3",
   "language": "python",
   "name": "python3"
  },
  "language_info": {
   "codemirror_mode": {
    "name": "ipython",
    "version": 3
   },
   "file_extension": ".py",
   "mimetype": "text/x-python",
   "name": "python",
   "nbconvert_exporter": "python",
   "pygments_lexer": "ipython3",
   "version": "3.7.4"
  }
 },
 "nbformat": 4,
 "nbformat_minor": 2
}
